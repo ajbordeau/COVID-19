{
 "cells": [
  {
   "cell_type": "code",
   "execution_count": 3,
   "metadata": {},
   "outputs": [
    {
     "name": "stdout",
     "output_type": "stream",
     "text": [
      "working..\n",
      "done\n"
     ]
    }
   ],
   "source": [
    "from urllib.request import urlopen\n",
    "import pandas as pd\n",
    "import json\n",
    "with urlopen('https://raw.githubusercontent.com/plotly/datasets/master/geojson-counties-fips.json') as response:\n",
    "    counties = json.load(response)\n",
    "import os\n",
    "\n",
    "os.chdir(r'C:\\Users\\borde\\Desktop\\COVID\\Risk Locator')\n",
    "Rates_pd = pd.read_excel('Output.xlsx',index_col=False)\n",
    "#Rates_pd = Rates_pd.drop(['index'], axis=1)\n",
    "Rates_pd = Rates_pd[Rates_pd['FIPS']>1000]\n",
    "Rates_pd = Rates_pd[Rates_pd['FIPS']<60000].reset_index()\n",
    "TrackedFIPS_pd = pd.DataFrame(list(zip(Rates_pd['FIPS'], Rates_pd['Incidence_Rate'], Rates_pd['Active'])), columns = ['FIPS', 'Incidence_Rate', 'Active'])\n",
    "\n",
    "os.chdir(r'C:\\Users\\borde\\Desktop\\COVID')\n",
    "FIPS_pd = pd.read_csv('FIPS Lookup.csv',index_col=False)\n",
    "FIPS_pd = FIPS_pd.drop(['UID', 'iso2', 'iso3', 'code3', 'Country_Region','Lat', 'Long_', 'Population'],axis=1).dropna(subset=['FIPS'])\n",
    "FIPS_pd = FIPS_pd[FIPS_pd['FIPS']>1000]\n",
    "FIPS_pd = FIPS_pd[FIPS_pd['FIPS']<60000].reset_index()\n",
    "AllFIPS_pd = pd.DataFrame(list(zip(FIPS_pd['FIPS'])), columns = ['FIPS'])\n",
    "\n",
    "missing_pd = pd.merge(AllFIPS_pd, TrackedFIPS_pd, how='outer', indicator=True)\n",
    "\n",
    "locations = FIPS_pd['Combined_Key']\n",
    "locations = [x[:-4] for x in locations]\n",
    "\n",
    "missing_pd['Location'] = locations\n",
    "missing_pd['FIPS'] = missing_pd['FIPS'].astype('int64', copy=True)\n",
    "\n",
    "risk = []\n",
    "\n",
    "missing_pd['Incidence_Rate'] = missing_pd['Incidence_Rate'].fillna(0)\n",
    "missing_pd['Active'] = missing_pd['Active'].fillna(0)\n",
    "\n",
    "std = Rates_pd['Incidence_Rate'].std()\n",
    "mean = Rates_pd['Incidence_Rate'].mean()\n",
    "\n",
    "\n",
    "for x in range(0,len(missing_pd)):\n",
    "    if missing_pd['Incidence_Rate'][x]<=mean + std:\n",
    "        risk.append('LOW')\n",
    "    elif missing_pd['Incidence_Rate'][x]>mean + std and missing_pd['Incidence_Rate'][x]<=mean+2*std:\n",
    "        risk.append('MEDIUM')\n",
    "    elif missing_pd['Incidence_Rate'][x]>mean+2*std:\n",
    "        risk.append('HIGH')\n",
    "    else: \n",
    "        risk.append('ERROR')\n",
    "        \n",
    "missing_pd['Risk'] = risk\n",
    "\n",
    "strFIPS = []\n",
    "\n",
    "for x in range(0,len(missing_pd)):\n",
    "    strFIPS.append(str(missing_pd['FIPS'][x]).rjust(5,'0'))\n",
    "\n",
    "missing_pd['str_FIPS'] = strFIPS\n",
    "\n",
    "import plotly.express as px\n",
    "\n",
    "colorscale = [\"#CCFFCC\",\"#00FF00\",\"#99FF00\",\"#CCFF00\",\"#FFFF00\",\"#FFCC00\",\"#FF6600\",\"#FF0000\"]\n",
    "\n",
    "fig = px.choropleth(missing_pd, geojson=counties, locations='str_FIPS', color='Incidence_Rate',\n",
    "                    color_continuous_scale=colorscale,\n",
    "                    range_color=(0, mean+std*2), \n",
    "                    scope=\"usa\", title='Active Incidence Rate per County', hover_name = \"Location\", hover_data=['Risk', 'Active'])\n",
    "\n",
    "fig.update_traces(marker_line_width=.3, marker_opacity=.8,hovertemplate='<b>%{hovertext}</b><br>Risk: %{customdata[0]}<br><br>Incidence Rate: %{z}<br>Active Cases: %{customdata[1]}<extra></extra>')\n",
    "fig.update_layout(legend = dict(x=0.8),title_x = 0.4, font={\"size\":20, \"color\":\"white\"},geo=dict(bgcolor='#323130', lakecolor='#323130', subunitcolor='black'), plot_bgcolor='#111110', paper_bgcolor='#111110',margin={\"r\":0,\"t\":100,\"l\":0,\"b\":50})\n",
    "fig.update_geos(showsubunits=True, subunitcolor='black')\n",
    "print('working..')\n",
    "os.chdir(r'C:\\Users\\borde\\Documents\\Incidence Map')\n",
    "fig.write_html('index2.html',auto_open=True)\n",
    "print('done')"
   ]
  }
 ],
 "metadata": {
  "kernelspec": {
   "display_name": "Python 3",
   "language": "python",
   "name": "python3"
  },
  "language_info": {
   "codemirror_mode": {
    "name": "ipython",
    "version": 3
   },
   "file_extension": ".py",
   "mimetype": "text/x-python",
   "name": "python",
   "nbconvert_exporter": "python",
   "pygments_lexer": "ipython3",
   "version": "3.8.3"
  }
 },
 "nbformat": 4,
 "nbformat_minor": 4
}
